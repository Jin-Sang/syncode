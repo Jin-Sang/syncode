{
 "cells": [
  {
   "cell_type": "code",
   "execution_count": 6,
   "id": "fae8857a",
   "metadata": {},
   "outputs": [],
   "source": [
    "import warnings\n",
    "warnings.filterwarnings('ignore')\n",
    "from syncode import Syncode"
   ]
  },
  {
   "cell_type": "code",
   "execution_count": 14,
   "id": "14ee1dc2",
   "metadata": {},
   "outputs": [
    {
     "name": "stderr",
     "output_type": "stream",
     "text": [
      "Loading checkpoint shards: 100%|██████████████████████████████████████████████████████| 2/2 [00:00<00:00,  4.06it/s]\n",
      "Special tokens have been added in the vocabulary, make sure the associated word embeddings are fine-tuned or trained.\n"
     ]
    },
    {
     "name": "stdout",
     "output_type": "stream",
     "text": [
      "Loading Lark base parser from cache: cache/parsers/custom_lalr_parser.pkl\n"
     ]
    }
   ],
   "source": [
    "grammar = \"\"\"\n",
    "        start: expr\n",
    "\n",
    "        ?expr: term\n",
    "            | expr \"+\" term\n",
    "            | expr \"-\" term\n",
    "            | expr \"*\" term\n",
    "            | expr \"/\" term\n",
    "            | expr \"=\" term\n",
    "\n",
    "        ?term: DEC_NUMBER\n",
    "            | \"(\" expr \")\"\n",
    "\n",
    "        DEC_NUMBER: /0|[1-9]\\d*/i\n",
    "\n",
    "        %ignore \" \"\n",
    "    \"\"\"\n",
    "\n",
    "model_name = \"microsoft/phi-2\"\n",
    "\n",
    "syn_llm = Syncode(\n",
    "    model = model_name,\n",
    "    mode='grammar_mask',\n",
    "    max_new_tokens=20,\n",
    "    grammar=grammar,\n",
    "    chat_mode=True\n",
    "    )"
   ]
  },
  {
   "cell_type": "code",
   "execution_count": 15,
   "id": "16685ea2",
   "metadata": {},
   "outputs": [
    {
     "name": "stdout",
     "output_type": "stream",
     "text": [
      "2+2=4 \n",
      "7 * 8 = 56 \n",
      "8 \n"
     ]
    }
   ],
   "source": [
    "output = syn_llm.infer(\"What is 2+2?\")\n",
    "print(output)\n",
    "\n",
    "output = syn_llm.infer('What is 7 multiplied by 8?')\n",
    "print(output)\n",
    "\n",
    "output = syn_llm.infer('What is square root of 64?')\n",
    "print(output)"
   ]
  },
  {
   "cell_type": "code",
   "execution_count": 16,
   "id": "f0ced7b9",
   "metadata": {},
   "outputs": [
    {
     "name": "stderr",
     "output_type": "stream",
     "text": [
      "Loading checkpoint shards: 100%|██████████████████████████████████████████████████████| 2/2 [00:00<00:00,  4.08it/s]\n",
      "Special tokens have been added in the vocabulary, make sure the associated word embeddings are fine-tuned or trained.\n"
     ]
    }
   ],
   "source": [
    "llm = Syncode(\n",
    "    model = model_name,\n",
    "    mode='original',\n",
    "    max_new_tokens=20,\n",
    "    chat_mode=True\n",
    "    )"
   ]
  },
  {
   "cell_type": "code",
   "execution_count": 13,
   "id": "8ba78740",
   "metadata": {},
   "outputs": [
    {
     "name": "stdout",
     "output_type": "stream",
     "text": [
      "The answer is 4.\n",
      "<|im_end|>\n",
      "\n",
      "<|im_start\n",
      "The answer is 56.\n",
      "<|im_end|>\n",
      "\n",
      "<|im_start\n",
      "The square root of 64 is 8.\n",
      "<|im_end|>\n",
      "\n"
     ]
    }
   ],
   "source": [
    "output = llm.infer(\"What is 2+2?\")\n",
    "print(output)\n",
    "\n",
    "output = llm.infer('What is 7 multiplied by 8?')\n",
    "print(output)\n",
    "\n",
    "output = llm.infer('What is square root of 64?')\n",
    "print(output)"
   ]
  }
 ],
 "metadata": {
  "kernelspec": {
   "display_name": "codex-env",
   "language": "python",
   "name": "codex"
  },
  "language_info": {
   "codemirror_mode": {
    "name": "ipython",
    "version": 3
   },
   "file_extension": ".py",
   "mimetype": "text/x-python",
   "name": "python",
   "nbconvert_exporter": "python",
   "pygments_lexer": "ipython3",
   "version": "3.11.4"
  }
 },
 "nbformat": 4,
 "nbformat_minor": 5
}
